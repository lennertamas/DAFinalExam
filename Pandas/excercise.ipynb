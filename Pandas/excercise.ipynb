{
 "cells": [
  {
   "cell_type": "markdown",
   "metadata": {},
   "source": [
    "### PANDAS excercises\n",
    "\n",
    "Read the following questions carefully and write Python code with using Pandas and Numpy functions."
   ]
  },
  {
   "cell_type": "markdown",
   "metadata": {},
   "source": [
    "Exercise 1: Data Manipulation\n",
    "\n",
    "1. Load the attached `data.csv` into a Pandas DataFrame.\n",
    "2. Display the first 5 rows of the DataFrame.\n",
    "3. Extract name, email and phone columns from the DataFrame.\n",
    "4. Filter the males over 35 years.\n",
    "5. Split values of name column into first name and family name columns"
   ]
  },
  {
   "cell_type": "code",
   "execution_count": null,
   "metadata": {},
   "outputs": [],
   "source": [
    "# 1. Load a dataset data.csv into a Pandas DataFrame.\n",
    "\n",
    "\n",
    "# 2. Display the first 5 rows of the DataFrame.\n",
    "\n",
    "\n",
    "# 3. Extract name, email and phone columns from the DataFrame.\n",
    "\n",
    "\n",
    "# 4. Filter the males over 35 years.\n",
    "\n",
    "\n",
    "#5. Split values of name column into first name and family name columns\n"
   ]
  },
  {
   "cell_type": "markdown",
   "metadata": {},
   "source": [
    "Exercise 2: Data Analysis\n",
    "\n",
    "1. Load a dataset data.csv into a Pandas DataFrame.\n",
    "2. Calculate descriptive statistics \n",
    "3. Group the data based on a Gender and calculate average Age by groups\n",
    "4. Check whether there is any missing values in the DataFrame. Return only True or False\n",
    "5. Fill missing valuees with \"Unknown\" value\n",
    "6. Merge or join two DataFrames based on a common key."
   ]
  },
  {
   "cell_type": "code",
   "execution_count": null,
   "metadata": {},
   "outputs": [],
   "source": [
    "# 1. Load a dataset data.csv into a Pandas DataFrame.\n",
    "\n",
    "\n",
    "# 2. Calculate descriptive statistics \n",
    "\n",
    "\n",
    "# 3. Group the data based on a Gender and calculate average Age by group\n",
    "\n",
    "\n",
    "# 4. Check whether the datafrane contains missing values in the DataFrame\n",
    "\n",
    "\n",
    "# 5. Fill missing valuees with \"Unknown\" value\n",
    "\n",
    "\n",
    "# 6. Merge or join two DataFrames based on a common key and display all columns\n",
    "data2 = {'Description': ['Male', 'Female'],\n",
    "         'Gender': ['M', 'F']}\n"
   ]
  },
  {
   "cell_type": "markdown",
   "metadata": {},
   "source": [
    "Exercise 3: Data Visualization\n",
    "\n",
    "1. Create a simple line plot or bar chart from the DataFrame using a plotting library like Matplotlib or Seaborn. Visualize scores of every person.\n",
    "2. Customize the plot with appropriate labels, titles, and colors.\n",
    "3. Create a histogram or to visualize the distribution of a Age. Use 10 as bin size. \n",
    "4. Customize the plot with appropriate labels, titles, and freely selected colors."
   ]
  },
  {
   "cell_type": "code",
   "execution_count": null,
   "metadata": {},
   "outputs": [],
   "source": [
    "# Create a sample DataFrame\n",
    "data = {'Name': ['John', 'Emily', 'Michael', 'Jessica', 'William'],\n",
    "        'Age': [25, 30, 35, 28, 40],\n",
    "        'Score': [70, 85, 90, 75, 80]}\n",
    "\n",
    "# 1. Create a simple line plot or bar chart from the DataFrame using a plotting library like Matplotlib or Seaborn. Visualize scores of every person.\n",
    "\n",
    "\n",
    "# 2. Customize the plot with appropriate labels, titles, and freely selected colors.\n",
    "\n",
    "\n",
    "# 3. Create a histogram or to visualize the distribution of a Age. Use 10 as bin size. \n",
    "\n",
    "\n",
    "# 4. Customize the plot with appropriate labels, titles, and freely selected colors."
   ]
  },
  {
   "cell_type": "markdown",
   "metadata": {},
   "source": [
    "Exercise 4: Time Series Analysis\n",
    "1. Convert the Date column in the DataFrame to a datetime object\n",
    "2. Set the datetime column as the index of the DataFrame.\n",
    "3. Resample the data to a different time frequency (e.g., from daily to monthly).\n",
    "5. Plot the time series data with appropriate labels and titles."
   ]
  },
  {
   "cell_type": "code",
   "execution_count": null,
   "metadata": {},
   "outputs": [],
   "source": [
    "# Create a sample DataFrame\n",
    "data = {'Date': ['2022-01-01', '2022-01-02', '2022-01-03', '2022-01-04', '2022-01-05'],\n",
    "        'Value': [25, 30, 35, 28, 40]}\n",
    "\n",
    "# 1. Convert the Date column in the DataFrame to a datetime object\n",
    "\n",
    "\n",
    "# 2. Set the datetime column as the index of the DataFrame\n",
    "\n",
    "\n",
    "# 3. Resample the data to a monthly time frequency\n",
    "\n"
   ]
  },
  {
   "cell_type": "markdown",
   "metadata": {},
   "source": [
    "Exercise 5: Advanced Data Manipulation\n",
    "\n",
    "1. Use the apply() function to perform a custom function on the DataFrame.\n",
    "2. Create dataframe with the duplicate_data dictionary and remove duplicate rows.\n",
    "3. Sort the DataFrame based on Age column in ascending or descending order.\n",
    "4. Create pivot table and calculate average Age and Score by Name."
   ]
  },
  {
   "cell_type": "code",
   "execution_count": null,
   "metadata": {},
   "outputs": [],
   "source": [
    "# Create a sample DataFrame\n",
    "data = {'Name': ['John', 'Emily', 'Michael', 'Jessica', 'William'],\n",
    "        'Age': [25, 30, 35, 28, 40],\n",
    "        'Score': [70, 85, 90, 75, 80]}\n",
    "\n",
    "# 1. Use a custom function to calculate Score percentage if the max score is 125. \n",
    "# Save the calculated data into the Percentage column\n",
    "\n",
    "\n",
    "duplicate_data = {'Name': ['John', 'Emily', 'Michael', 'John', 'Emily'],\n",
    "                 'Age': [25, 30, 35, 25, 40],\n",
    "                 'Score': [70, 85, 90, 70, 80]}\n",
    "\n",
    "# 2. Create dataframe with the duplicate_data dictionary and remove duplicate rows.\n",
    "\n",
    "# 3. Sort the DataFrame based on Age column in ascending or descending order\n",
    "\n",
    "# 4. Create pivot table and calculate average Age and Score by Name"
   ]
  }
 ],
 "metadata": {
  "language_info": {
   "name": "python"
  },
  "orig_nbformat": 4
 },
 "nbformat": 4,
 "nbformat_minor": 2
}
